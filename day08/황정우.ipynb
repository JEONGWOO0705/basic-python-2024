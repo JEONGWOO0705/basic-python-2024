{
 "cells": [
  {
   "cell_type": "markdown",
   "metadata": {},
   "source": [
    "## 1번 문제"
   ]
  },
  {
   "cell_type": "code",
   "execution_count": 7,
   "metadata": {},
   "outputs": [
    {
     "name": "stdout",
     "output_type": "stream",
     "text": [
      "원의 넓이는 78.53981633974483 입니다.\n"
     ]
    }
   ],
   "source": [
    "# 1번 문제\n",
    "import math\n",
    "\n",
    "input_a = int(input('반지름 값을 입력하시오 : '))\n",
    "\n",
    "print(f'원의 넓이는 {input_a * input_a * math.pi} 입니다.')\n",
    "\n"
   ]
  },
  {
   "cell_type": "markdown",
   "metadata": {},
   "source": [
    "## 2번 문제"
   ]
  },
  {
   "cell_type": "code",
   "execution_count": 12,
   "metadata": {},
   "outputs": [
    {
     "name": "stdout",
     "output_type": "stream",
     "text": [
      "지구\n"
     ]
    }
   ],
   "source": [
    "# 2번 문제\n",
    "solar_system = {'Mercury' : '수성', 'Venus' : '금성', 'Earth':'지구', 'Mars':'화성',\n",
    "                 'Jupiter':'목성', 'Saturn':'토성', 'Uranus':'천왕성', 'Neptune':'해왕성'}\n",
    "\n",
    "solar_name = input('행성의 영어 이름을 입력하세요 : ')\n",
    "print(solar_system[solar_name])"
   ]
  },
  {
   "cell_type": "markdown",
   "metadata": {},
   "source": [
    "## 3번 문제"
   ]
  },
  {
   "cell_type": "code",
   "execution_count": 35,
   "metadata": {},
   "outputs": [
    {
     "name": "stdout",
     "output_type": "stream",
     "text": [
      "['hi', 'i', 'am', 'jeong', 'woo', 'hwang'] = 6\n",
      "hi I am JEONG woo HWANG\n"
     ]
    }
   ],
   "source": [
    "# 3번 문제\n",
    "def listToString(str_list):\n",
    "    result = \"\"\n",
    "    for s in str_list:\n",
    "        result += s + \" \"\n",
    "    return result.strip()\n",
    "\n",
    "sentence = input('영어 문장을 입력하시오 : ').split(' ')\n",
    "print(f'{sentence} = {len(sentence)}')\n",
    "\n",
    "\n",
    "\n",
    "for i in range(1,len(sentence),2):\n",
    "    sentence[i] = sentence[i].upper()\n",
    "\n",
    "\n",
    "str_list = sentence\n",
    "result = listToString(str_list)\n",
    "print(result)"
   ]
  },
  {
   "cell_type": "markdown",
   "metadata": {},
   "source": [
    "## 4번 문제"
   ]
  },
  {
   "cell_type": "code",
   "execution_count": 2,
   "metadata": {},
   "outputs": [
    {
     "name": "stdout",
     "output_type": "stream",
     "text": [
      "https://www.google.com/\n"
     ]
    }
   ],
   "source": [
    "# 4번 문제\n",
    "from urllib.request import Request, urlopen\n",
    "import webbrowser \n",
    "def get_url(self):\n",
    "    req = Request(f'https://www.{url_name}.com/')\n",
    "    res = urlopen(req)\n",
    "    print(f'https://www.{url_name}.com/')\n",
    "    webbrowser.open(f'https://www.{url_name}.com/') # 입력받는 웹브라우저를 바로 실행 시켜줌\n",
    "    \n",
    "\n",
    "url_name = input('url 이름을 영문으로 입력하세요 : ')\n",
    "get_url(url_name)"
   ]
  },
  {
   "cell_type": "markdown",
   "metadata": {},
   "source": [
    "## 5번 문제"
   ]
  },
  {
   "cell_type": "code",
   "execution_count": 34,
   "metadata": {},
   "outputs": [
    {
     "name": "stdout",
     "output_type": "stream",
     "text": [
      "7 단 입니다.\n",
      "7 14 21 28 35 42 49 56 63 "
     ]
    }
   ],
   "source": [
    "# 5번 문제\n",
    "i = int(input('2단에서 9단 까지 수행할 단 번호를 입력하세요 : '))\n",
    "\n",
    "print(f'{i} 단 입니다.')\n",
    "for j in range(1,9+1):\n",
    "    print(i * j, end=' ')\n"
   ]
  }
 ],
 "metadata": {
  "kernelspec": {
   "display_name": "Python 3",
   "language": "python",
   "name": "python3"
  },
  "language_info": {
   "codemirror_mode": {
    "name": "ipython",
    "version": 3
   },
   "file_extension": ".py",
   "mimetype": "text/x-python",
   "name": "python",
   "nbconvert_exporter": "python",
   "pygments_lexer": "ipython3",
   "version": "3.11.5"
  }
 },
 "nbformat": 4,
 "nbformat_minor": 2
}
